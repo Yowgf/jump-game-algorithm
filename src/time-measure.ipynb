{
 "cells": [
  {
   "cell_type": "code",
   "execution_count": null,
   "metadata": {},
   "outputs": [],
   "source": [
    "import numpy as np\n",
    "import matplotlib.pyplot as plt\n",
    "import csv\n",
    "import math"
   ]
  },
  {
   "cell_type": "code",
   "execution_count": null,
   "metadata": {
    "scrolled": true
   },
   "outputs": [],
   "source": [
    "with open('../times.csv', 'r') as file:\n",
    "    reader = csv.reader(file)\n",
    "    times = list(reader)\n",
    "    for row in reader:\n",
    "        print(row)\n",
    "times = np.array(times, dtype = np.int32)\n",
    "times = times[::,0]\n",
    "times.sort()\n",
    "print(times)\n",
    "\n",
    "step_size = 2\n",
    "size = 1\n",
    "m = 0\n",
    "n = 0\n",
    "\n",
    "x_ax = np.ones(times.size)\n",
    "for i in range(1, times.size):\n",
    "    m = int(np.sqrt(size))\n",
    "    n = int(np.sqrt(size))\n",
    "    x_ax[i] = m * n\n",
    "    size *= step_size\n",
    "\n",
    "\n",
    "plt.plot(x_ax, times)\n",
    "\n",
    "plt.scatter(x_ax, times, color='r')\n",
    "plt.savefig(\"../times.png\")"
   ]
  },
  {
   "cell_type": "code",
   "execution_count": null,
   "metadata": {},
   "outputs": [],
   "source": []
  }
 ],
 "metadata": {
  "kernelspec": {
   "display_name": "Python 3",
   "language": "python",
   "name": "python3"
  },
  "language_info": {
   "codemirror_mode": {
    "name": "ipython",
    "version": 3
   },
   "file_extension": ".py",
   "mimetype": "text/x-python",
   "name": "python",
   "nbconvert_exporter": "python",
   "pygments_lexer": "ipython3",
   "version": "3.7.2"
  }
 },
 "nbformat": 4,
 "nbformat_minor": 2
}
